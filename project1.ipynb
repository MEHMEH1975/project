{
 "cells": [
  {
   "cell_type": "code",
   "execution_count": 3,
   "id": "82f75bd9",
   "metadata": {},
   "outputs": [
    {
     "name": "stdout",
     "output_type": "stream",
     "text": [
      "[*] Enter username: jesdj\n",
      "[*] Enter password: 4545\n",
      "Incorrect username or password!\n",
      "Please try again.\n"
     ]
    }
   ],
   "source": [
    "from cryptography.fernet import Fernet\n",
    "username = 'yassine'\n",
    "password = '12345'\n",
    "inputuser = input('[*] Enter username: ')\n",
    "inputpass = input('[*] Enter password: ')\n",
    "if not (username==inputuser and password==inputpass):\n",
    "    print('Incorrect username or password!\\nPlease try again.')\n",
    "    exit()\n",
    "\n",
    "\n",
    "'''\n",
    "def write_key():\n",
    "    key = Fernet.generate_key()\n",
    "    with open(\"key.key\", \"wb\") as key_file:\n",
    "        key_file.write(key)'''\n",
    "\n",
    "\n",
    "if (username==inputuser and password==inputpass):\n",
    "    def load_key():\n",
    "        file = open(\"key.key\", \"rb\")\n",
    "        key = file.read()\n",
    "        file.close()\n",
    "        return key\n",
    "\n",
    "\n",
    "\n",
    "\n",
    "key = load_key() \n",
    "fer = Fernet(key)\n",
    "\n",
    "if (username==inputuser and password==inputpass):\n",
    "    def view():\n",
    "        with open('passwords.txt', 'r') as f:\n",
    "            for line in f.readlines():\n",
    "                data = line.rstrip()\n",
    "            user, passw = data.split(\"|\")\n",
    "            print(\"User:\", user, \"| Password:\",\n",
    "                  fer.decrypt(passw.encode()).decode())\n",
    "\n",
    "if  (username==inputuser and password==inputpass):\n",
    "    def add(): \n",
    "        name = input('Account Name: ')\n",
    "        pwd = input(\"Password: \")\n",
    "        with open('passwords.txt', 'a') as f:\n",
    "            f.write(name+ \"|\" + fer.encrypt(pwd.encode()).decode() + \"\\n\")\n",
    "\n",
    "\n",
    "    while True:\n",
    "        mode = input(\"Would you like to add a new password or view existing ones (view, add), press q to quit? \").lower()\n",
    "        if mode == \"q\":\n",
    "            break\n",
    "        if mode == \"view\":\n",
    "            view()\n",
    "        elif mode == \"add\":\n",
    "            add()\n",
    "        else:\n",
    "            print(\"Invalid mode.\")\n",
    "            continue"
   ]
  },
  {
   "cell_type": "code",
   "execution_count": null,
   "id": "43ae7f77",
   "metadata": {},
   "outputs": [],
   "source": []
  },
  {
   "cell_type": "code",
   "execution_count": null,
   "id": "aeeebefb",
   "metadata": {},
   "outputs": [],
   "source": []
  },
  {
   "cell_type": "code",
   "execution_count": null,
   "id": "3e4f7385",
   "metadata": {},
   "outputs": [],
   "source": []
  }
 ],
 "metadata": {
  "kernelspec": {
   "display_name": "Python 3 (ipykernel)",
   "language": "python",
   "name": "python3"
  },
  "language_info": {
   "codemirror_mode": {
    "name": "ipython",
    "version": 3
   },
   "file_extension": ".py",
   "mimetype": "text/x-python",
   "name": "python",
   "nbconvert_exporter": "python",
   "pygments_lexer": "ipython3",
   "version": "3.9.12"
  }
 },
 "nbformat": 4,
 "nbformat_minor": 5
}
